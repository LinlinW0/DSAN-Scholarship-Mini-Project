{
 "cells": [
  {
   "cell_type": "markdown",
   "metadata": {},
   "source": [
    "---\n",
    "title: \"Mini-Project\"\n",
    "format:\n",
    "  html:\n",
    "    toc: true\n",
    "    embed-resources: true\n",
    "execute:\n",
    "  echo: true\n",
    "---"
   ]
  },
  {
   "cell_type": "markdown",
   "metadata": {},
   "source": [
    "## Introduction\n",
    "In order to know the job search, I have conducted an analysis of job postings data, which is provided by DSAN program, to gain insights into various aspects of the job market. The dataset includes information such as job titles, industries, qualifications, job types, and more. By exploring and analyzing this data, I aimed to uncover patterns, trends, and valuable information about different job roles and industries. I only focused on the local job search in the United States."
   ]
  },
  {
   "cell_type": "markdown",
   "metadata": {},
   "source": [
    "# Data Cleaning\n",
    "To ensure the reliability and consistency of the dataset, a thorough data cleaning and preparation process was undertaken. Initially, I merged all json files in local job search folder into one json file. "
   ]
  },
  {
   "cell_type": "code",
   "execution_count": 7,
   "metadata": {},
   "outputs": [],
   "source": [
    "# import libraries\n",
    "import json\n",
    "import os\n",
    "import pandas as pd\n",
    "from wordcloud import WordCloud\n",
    "import matplotlib.pyplot as plt\n",
    "from collections import Counter\n",
    "import nltk\n",
    "from nltk.corpus import stopwords\n",
    "from plotly.offline import plot\n",
    "import plotly.graph_objects as go\n",
    "import plotly.express as px\n",
    "import plotly.io as pio\n",
    "\n",
    "pio.renderers.default = \"plotly_mimetype+notebook_connected\"\n"
   ]
  },
  {
   "cell_type": "code",
   "execution_count": 8,
   "metadata": {},
   "outputs": [],
   "source": [
    "# Folder path containing the JSON files\n",
    "folder_path = '/Users/linlinw/Desktop/DSAN-Scholarship-Mini-Project/data/2023-04-14-job-search/2023-04-14-job-search-location-DC'\n",
    "\n",
    "# List all JSON files in the folder\n",
    "json_files = [file for file in os.listdir(folder_path) if file.endswith('.json')]\n",
    "\n",
    "# Initialize combined data dictionary\n",
    "combined_data = {\n",
    "    \"search_metadata\": {},\n",
    "    \"search_parameters\": {},\n",
    "    \"jobs_results\": [],\n",
    "    \"chips\": []\n",
    "}\n",
    "\n",
    "# Iterate over JSON files\n",
    "for file in json_files:\n",
    "    file_path = os.path.join(folder_path, file)\n",
    "    with open(file_path) as json_file:\n",
    "        data = json.load(json_file)\n",
    "\n",
    "        # Combine search metadata\n",
    "        combined_data[\"search_metadata\"].update(data[\"search_metadata\"])\n",
    "\n",
    "        # Combine search parameters\n",
    "        combined_data[\"search_parameters\"].update(data[\"search_parameters\"])\n",
    "\n",
    "        # Combine jobs results if the key exists\n",
    "        if \"jobs_results\" in data:\n",
    "            combined_data[\"jobs_results\"].extend(data[\"jobs_results\"])\n",
    "\n",
    "        # Combine chips\n",
    "        if \"chips\" in data:\n",
    "            combined_data[\"chips\"].extend(data[\"chips\"])\n",
    "\n",
    "# Write combined data to a new JSON file\n",
    "output_file = '/Users/linlinw/Desktop/DSAN-Scholarship-Mini-Project/combined_data.json'\n",
    "with open(output_file, 'w') as outfile:\n",
    "    json.dump(combined_data, outfile, indent=4)"
   ]
  },
  {
   "cell_type": "markdown",
   "metadata": {},
   "source": [
    "## Exploratory Data Analysis\n",
    "Next, I performed exploratory data analysis to understand the distribution of job titles, industries, and other key variables. This helped me identify the most common job titles, the industries with the highest job demand, and the qualifications frequently sought by employers.\n",
    "\n",
    "To dive deeper into specific aspects, I focused on analyzing job types and extensions. This involved examining the distribution of full-time, part-time, and contract positions across different job titles and industries. By visualizing this information through bar charts and pie charts, I was able to highlight the prevalence of certain job types in specific fields and identify any significant variations in job arrangements."
   ]
  },
  {
   "cell_type": "code",
   "execution_count": 9,
   "metadata": {},
   "outputs": [
    {
     "data": {
      "image/png": "[encoded data removed]",
      "text/plain": [
       "<Figure size 432x288 with 1 Axes>"
      ]
     },
     "metadata": {},
     "output_type": "display_data"
    }
   ],
   "source": [
    "# Get the job descriptions from the data\n",
    "extension_counts = {}\n",
    "total_jobs = 0\n",
    "# Iterate over the jobs\n",
    "for job in combined_data['jobs_results']:\n",
    "    extensions = job['extensions']\n",
    "    total_jobs += 1\n",
    "    for extension in extensions:\n",
    "        extension_counts[extension] = extension_counts.get(extension, 0) + 1\n",
    "# count part time and full time jobs\n",
    "part_time_count = extension_counts.get('Part-time', 0)\n",
    "full_time_count = extension_counts.get('Full-time', 0)\n",
    "# Calculate the percentage for \"Part Time\" and \"Full Time\"\n",
    "part_time_percentage = (part_time_count / total_jobs) * 100\n",
    "full_time_percentage = (full_time_count / total_jobs) * 100\n",
    "# Calculate the count and percentage for \"Others\"\n",
    "others_count = total_jobs - (part_time_count + full_time_count)\n",
    "others_percentage = (others_count / total_jobs) * 100\n",
    "# Create labels and sizes for the pie chart\n",
    "labels = ['Part Time', 'Full Time', 'Others']\n",
    "sizes = [part_time_count, full_time_count, others_count]\n",
    "# Define colors for the pie chart\n",
    "colors = ['#ff9999', '#66b3ff', '#99ff99']\n",
    "# Set the background color\n",
    "fig = plt.figure(facecolor='white')\n",
    "# Create the pie chart\n",
    "plt.pie(sizes, labels=labels, colors=colors, autopct='%1.1f%%', startangle=45)\n",
    "# Add a title\n",
    "plt.title('Job Distribution: Part Time vs Full Time vs Others')\n",
    "# Equal aspect ratio ensures that pie is drawn as a circle\n",
    "plt.axis('equal')\n",
    "# Display the pie chart\n",
    "plt.show()"
   ]
  },
  {
   "cell_type": "markdown",
   "metadata": {},
   "source": [
    "The plot shows the proportion of jobs categorized as part-time, full-time, and others. From the plot, we can observe that the majority of job positions fall under the full-time category, indicating that full-time employment is the most common type of job in the dataset. This suggests that employers in this industry typically offer full-time positions to meet their workforce requirements. On the other hand, part-time jobs constitute a smaller portion of the job distribution, indicating that there are fewer part-time opportunities available. The \"Others\" category represents job positions that do not fit into the part-time or full-time classification. These could include contractual, freelance, or project-based roles. Overall, this plot provides valuable insights into the distribution of job positions based on their employment types, helping us understand the prevailing job market dynamics in terms of work schedules and opportunities."
   ]
  },
  {
   "cell_type": "code",
   "execution_count": 10,
   "metadata": {},
   "outputs": [
    {
     "data": {
      "text/html": [
       "        <script type=\"text/javascript\">\n",
       "        window.PlotlyConfig = {MathJaxConfig: 'local'};\n",
       "        if (window.MathJax) {MathJax.Hub.Config({SVG: {font: \"STIX-Web\"}});}\n",
       "        if (typeof require !== 'undefined') {\n",
       "        require.undef(\"plotly\");\n",
       "        requirejs.config({\n",
       "            paths: {\n",
       "                'plotly': ['https://cdn.plot.ly/plotly-2.9.0.min']\n",
       "            }\n",
       "        });\n",
       "        require(['plotly'], function(Plotly) {\n",
       "            window._Plotly = Plotly;\n",
       "        });\n",
       "        }\n",
       "        </script>\n",
       "        "
      ]
     },
     "metadata": {},
     "output_type": "display_data"
    },
    {
     "data": {
      "application/vnd.plotly.v1+json": {
       "config": {
        "plotlyServerURL": "https://plot.ly"
       },
       "data": [
        {
         "text": [
          "69",
          "21",
          "9",
          "5",
          "5",
          "2",
          "4",
          "1",
          "1",
          "1",
          "1",
          "9",
          "8",
          "40",
          "18",
          "9",
          "10",
          "1",
          "6",
          "7",
          "3",
          "13",
          "2",
          "1",
          "6",
          "1",
          "1",
          "6",
          "2",
          "3",
          "12",
          "1",
          "7",
          "2",
          "2",
          "1",
          "1",
          "1",
          "3",
          "1",
          "1",
          "2",
          "1",
          "1",
          "2",
          "1",
          "1",
          "1",
          "2",
          "1",
          "4",
          "4",
          "1",
          "2",
          "1",
          "1",
          "2",
          "2",
          "4",
          "2",
          "2",
          "1",
          "2",
          "2",
          "1",
          "3",
          "1",
          "1",
          "1",
          "1",
          "1",
          "1",
          "1",
          "1",
          "1",
          "1",
          "1",
          "2",
          "2",
          "1",
          "1",
          "1",
          "1",
          "1",
          "1",
          "1",
          "1"
         ],
         "textfont": {
          "color": "black"
         },
         "textposition": "auto",
         "type": "bar",
         "x": [
          "Anywhere",
          "New York, NY",
          "United States",
          "Baltimore, MD",
          "Reston, VA",
          "Oak Ridge, TN",
          "South San Francisco, CA",
          "Wilmington, DE",
          "Maryland",
          "Edison, NJ",
          "Moline, IL",
          "Annapolis Junction, MD",
          "Alexandria, VA",
          "Washington, DC",
          "Arlington, VA",
          "McLean, VA",
          "Bethesda, MD",
          "College Park, MD",
          "Fort Meade, MD",
          "Silver Spring, MD",
          "Laurel, MD",
          "Herndon, VA",
          "Chevy Chase, MD",
          "Falls Church, VA",
          "Annapolis, MD",
          "United States  (+1 other)",
          "Manassas, VA",
          "Fairfax, VA",
          "Rockville, MD",
          "Boston, MA",
          "San Francisco, CA",
          "Dayton, OH",
          "Seattle, WA",
          "California  (+1 other)",
          "Phoenix, AZ",
          "Somerville, MA",
          "West Columbia, SC",
          "New York",
          "Palo Alto, CA",
          "Santa Clara, CA",
          "Suffolk, VA",
          "Takoma Park, MD",
          "Wheaton-Glenmont, MD",
          "Fort Belvoir, VA",
          "Columbia, MD",
          "Vienna, VA",
          "Sterling, VA",
          "Bridgeport, WV",
          "California",
          "Ruston, LA",
          "Menlo Park, CA",
          "Cupertino, CA",
          "Lexington, MA  (+1 other)",
          "Kirkland, WA",
          "Marlborough, MA",
          "Waltham, MA",
          "Atlanta, GA",
          "Dallas, TX",
          "Chicago, IL",
          "Honolulu, HI",
          "Livermore, CA",
          "Fremont, CA",
          "Springfield, VA",
          "Beltsville, MD",
          "Newton, MA",
          "San Jose, CA",
          "Los Angeles, CA",
          "Covington, KY",
          "San Diego, CA",
          "Bethune, SC",
          "Columbus, OH",
          "Sunnyvale, CA",
          "Sacramento, CA",
          "Madrid, AL",
          "Pittsburgh, PA",
          "Culver City, CA",
          "Cincinnati, OH",
          "Hanover, MD",
          "Catonsville, MD",
          "Ohio  (+1 other)",
          "Chantilly, VA",
          "Germantown, MD",
          "Bowie, MD",
          "Durham, NC",
          "Montreal, MO",
          "Brooklyn, NY",
          "Los Altos, CA"
         ],
         "y": [
          69,
          21,
          9,
          5,
          5,
          2,
          4,
          1,
          1,
          1,
          1,
          9,
          8,
          40,
          18,
          9,
          10,
          1,
          6,
          7,
          3,
          13,
          2,
          1,
          6,
          1,
          1,
          6,
          2,
          3,
          12,
          1,
          7,
          2,
          2,
          1,
          1,
          1,
          3,
          1,
          1,
          2,
          1,
          1,
          2,
          1,
          1,
          1,
          2,
          1,
          4,
          4,
          1,
          2,
          1,
          1,
          2,
          2,
          4,
          2,
          2,
          1,
          2,
          2,
          1,
          3,
          1,
          1,
          1,
          1,
          1,
          1,
          1,
          1,
          1,
          1,
          1,
          2,
          2,
          1,
          1,
          1,
          1,
          1,
          1,
          1,
          1
         ]
        }
       ],
       "layout": {
        "showlegend": false,
        "template": {
         "data": {
          "bar": [
           {
            "error_x": {
             "color": "#2a3f5f"
            },
            "error_y": {
             "color": "#2a3f5f"
            },
            "marker": {
             "line": {
              "color": "#E5ECF6",
              "width": 0.5
             },
             "pattern": {
              "fillmode": "overlay",
              "size": 10,
              "solidity": 0.2
             }
            },
            "type": "bar"
           }
          ],
          "barpolar": [
           {
            "marker": {
             "line": {
              "color": "#E5ECF6",
              "width": 0.5
             },
             "pattern": {
              "fillmode": "overlay",
              "size": 10,
              "solidity": 0.2
             }
            },
            "type": "barpolar"
           }
          ],
          "carpet": [
           {
            "aaxis": {
             "endlinecolor": "#2a3f5f",
             "gridcolor": "white",
             "linecolor": "white",
             "minorgridcolor": "white",
             "startlinecolor": "#2a3f5f"
            },
            "baxis": {
             "endlinecolor": "#2a3f5f",
             "gridcolor": "white",
             "linecolor": "white",
             "minorgridcolor": "white",
             "startlinecolor": "#2a3f5f"
            },
            "type": "carpet"
           }
          ],
          "choropleth": [
           {
            "colorbar": {
             "outlinewidth": 0,
             "ticks": ""
            },
            "type": "choropleth"
           }
          ],
          "contour": [
           {
            "colorbar": {
             "outlinewidth": 0,
             "ticks": ""
            },
            "colorscale": [
             [
              0,
              "#0d0887"
             ],
             [
              0.1111111111111111,
              "#46039f"
             ],
             [
              0.2222222222222222,
              "#7201a8"
             ],
             [
              0.3333333333333333,
              "#9c179e"
             ],
             [
              0.4444444444444444,
              "#bd3786"
             ],
             [
              0.5555555555555556,
              "#d8576b"
             ],
             [
              0.6666666666666666,
              "#ed7953"
             ],
             [
              0.7777777777777778,
              "#fb9f3a"
             ],
             [
              0.8888888888888888,
              "#fdca26"
             ],
             [
              1,
              "#f0f921"
             ]
            ],
            "type": "contour"
           }
          ],
          "contourcarpet": [
           {
            "colorbar": {
             "outlinewidth": 0,
             "ticks": ""
            },
            "type": "contourcarpet"
           }
          ],
          "heatmap": [
           {
            "colorbar": {
             "outlinewidth": 0,
             "ticks": ""
            },
            "colorscale": [
             [
              0,
              "#0d0887"
             ],
             [
              0.1111111111111111,
              "#46039f"
             ],
             [
              0.2222222222222222,
              "#7201a8"
             ],
             [
              0.3333333333333333,
              "#9c179e"
             ],
             [
              0.4444444444444444,
              "#bd3786"
             ],
             [
              0.5555555555555556,
              "#d8576b"
             ],
             [
              0.6666666666666666,
              "#ed7953"
             ],
             [
              0.7777777777777778,
              "#fb9f3a"
             ],
             [
              0.8888888888888888,
              "#fdca26"
             ],
             [
              1,
              "#f0f921"
             ]
            ],
            "type": "heatmap"
           }
          ],
          "heatmapgl": [
           {
            "colorbar": {
             "outlinewidth": 0,
             "ticks": ""
            },
            "colorscale": [
             [
              0,
              "#0d0887"
             ],
             [
              0.1111111111111111,
              "#46039f"
             ],
             [
              0.2222222222222222,
              "#7201a8"
             ],
             [
              0.3333333333333333,
              "#9c179e"
             ],
             [
              0.4444444444444444,
              "#bd3786"
             ],
             [
              0.5555555555555556,
              "#d8576b"
             ],
             [
              0.6666666666666666,
              "#ed7953"
             ],
             [
              0.7777777777777778,
              "#fb9f3a"
             ],
             [
              0.8888888888888888,
              "#fdca26"
             ],
             [
              1,
              "#f0f921"
             ]
            ],
            "type": "heatmapgl"
           }
          ],
          "histogram": [
           {
            "marker": {
             "pattern": {
              "fillmode": "overlay",
              "size": 10,
              "solidity": 0.2
             }
            },
            "type": "histogram"
           }
          ],
          "histogram2d": [
           {
            "colorbar": {
             "outlinewidth": 0,
             "ticks": ""
            },
            "colorscale": [
             [
              0,
              "#0d0887"
             ],
             [
              0.1111111111111111,
              "#46039f"
             ],
             [
              0.2222222222222222,
              "#7201a8"
             ],
             [
              0.3333333333333333,
              "#9c179e"
             ],
             [
              0.4444444444444444,
              "#bd3786"
             ],
             [
              0.5555555555555556,
              "#d8576b"
             ],
             [
              0.6666666666666666,
              "#ed7953"
             ],
             [
              0.7777777777777778,
              "#fb9f3a"
             ],
             [
              0.8888888888888888,
              "#fdca26"
             ],
             [
              1,
              "#f0f921"
             ]
            ],
            "type": "histogram2d"
           }
          ],
          "histogram2dcontour": [
           {
            "colorbar": {
             "outlinewidth": 0,
             "ticks": ""
            },
            "colorscale": [
             [
              0,
              "#0d0887"
             ],
             [
              0.1111111111111111,
              "#46039f"
             ],
             [
              0.2222222222222222,
              "#7201a8"
             ],
             [
              0.3333333333333333,
              "#9c179e"
             ],
             [
              0.4444444444444444,
              "#bd3786"
             ],
             [
              0.5555555555555556,
              "#d8576b"
             ],
             [
              0.6666666666666666,
              "#ed7953"
             ],
             [
              0.7777777777777778,
              "#fb9f3a"
             ],
             [
              0.8888888888888888,
              "#fdca26"
             ],
             [
              1,
              "#f0f921"
             ]
            ],
            "type": "histogram2dcontour"
           }
          ],
          "mesh3d": [
           {
            "colorbar": {
             "outlinewidth": 0,
             "ticks": ""
            },
            "type": "mesh3d"
           }
          ],
          "parcoords": [
           {
            "line": {
             "colorbar": {
              "outlinewidth": 0,
              "ticks": ""
             }
            },
            "type": "parcoords"
           }
          ],
          "pie": [
           {
            "automargin": true,
            "type": "pie"
           }
          ],
          "scatter": [
           {
            "marker": {
             "colorbar": {
              "outlinewidth": 0,
              "ticks": ""
             }
            },
            "type": "scatter"
           }
          ],
          "scatter3d": [
           {
            "line": {
             "colorbar": {
              "outlinewidth": 0,
              "ticks": ""
             }
            },
            "marker": {
             "colorbar": {
              "outlinewidth": 0,
              "ticks": ""
             }
            },
            "type": "scatter3d"
           }
          ],
          "scattercarpet": [
           {
            "marker": {
             "colorbar": {
              "outlinewidth": 0,
              "ticks": ""
             }
            },
            "type": "scattercarpet"
           }
          ],
          "scattergeo": [
           {
            "marker": {
             "colorbar": {
              "outlinewidth": 0,
              "ticks": ""
             }
            },
            "type": "scattergeo"
           }
          ],
          "scattergl": [
           {
            "marker": {
             "colorbar": {
              "outlinewidth": 0,
              "ticks": ""
             }
            },
            "type": "scattergl"
           }
          ],
          "scattermapbox": [
           {
            "marker": {
             "colorbar": {
              "outlinewidth": 0,
              "ticks": ""
             }
            },
            "type": "scattermapbox"
           }
          ],
          "scatterpolar": [
           {
            "marker": {
             "colorbar": {
              "outlinewidth": 0,
              "ticks": ""
             }
            },
            "type": "scatterpolar"
           }
          ],
          "scatterpolargl": [
           {
            "marker": {
             "colorbar": {
              "outlinewidth": 0,
              "ticks": ""
             }
            },
            "type": "scatterpolargl"
           }
          ],
          "scatterternary": [
           {
            "marker": {
             "colorbar": {
              "outlinewidth": 0,
              "ticks": ""
             }
            },
            "type": "scatterternary"
           }
          ],
          "surface": [
           {
            "colorbar": {
             "outlinewidth": 0,
             "ticks": ""
            },
            "colorscale": [
             [
              0,
              "#0d0887"
             ],
             [
              0.1111111111111111,
              "#46039f"
             ],
             [
              0.2222222222222222,
              "#7201a8"
             ],
             [
              0.3333333333333333,
              "#9c179e"
             ],
             [
              0.4444444444444444,
              "#bd3786"
             ],
             [
              0.5555555555555556,
              "#d8576b"
             ],
             [
              0.6666666666666666,
              "#ed7953"
             ],
             [
              0.7777777777777778,
              "#fb9f3a"
             ],
             [
              0.8888888888888888,
              "#fdca26"
             ],
             [
              1,
              "#f0f921"
             ]
            ],
            "type": "surface"
           }
          ],
          "table": [
           {
            "cells": {
             "fill": {
              "color": "#EBF0F8"
             },
             "line": {
              "color": "white"
             }
            },
            "header": {
             "fill": {
              "color": "#C8D4E3"
             },
             "line": {
              "color": "white"
             }
            },
            "type": "table"
           }
          ]
         },
         "layout": {
          "annotationdefaults": {
           "arrowcolor": "#2a3f5f",
           "arrowhead": 0,
           "arrowwidth": 1
          },
          "autotypenumbers": "strict",
          "coloraxis": {
           "colorbar": {
            "outlinewidth": 0,
            "ticks": ""
           }
          },
          "colorscale": {
           "diverging": [
            [
             0,
             "#8e0152"
            ],
            [
             0.1,
             "#c51b7d"
            ],
            [
             0.2,
             "#de77ae"
            ],
            [
             0.3,
             "#f1b6da"
            ],
            [
             0.4,
             "#fde0ef"
            ],
            [
             0.5,
             "#f7f7f7"
            ],
            [
             0.6,
             "#e6f5d0"
            ],
            [
             0.7,
             "#b8e186"
            ],
            [
             0.8,
             "#7fbc41"
            ],
            [
             0.9,
             "#4d9221"
            ],
            [
             1,
             "#276419"
            ]
           ],
           "sequential": [
            [
             0,
             "#0d0887"
            ],
            [
             0.1111111111111111,
             "#46039f"
            ],
            [
             0.2222222222222222,
             "#7201a8"
            ],
            [
             0.3333333333333333,
             "#9c179e"
            ],
            [
             0.4444444444444444,
             "#bd3786"
            ],
            [
             0.5555555555555556,
             "#d8576b"
            ],
            [
             0.6666666666666666,
             "#ed7953"
            ],
            [
             0.7777777777777778,
             "#fb9f3a"
            ],
            [
             0.8888888888888888,
             "#fdca26"
            ],
            [
             1,
             "#f0f921"
            ]
           ],
           "sequentialminus": [
            [
             0,
             "#0d0887"
            ],
            [
             0.1111111111111111,
             "#46039f"
            ],
            [
             0.2222222222222222,
             "#7201a8"
            ],
            [
             0.3333333333333333,
             "#9c179e"
            ],
            [
             0.4444444444444444,
             "#bd3786"
            ],
            [
             0.5555555555555556,
             "#d8576b"
            ],
            [
             0.6666666666666666,
             "#ed7953"
            ],
            [
             0.7777777777777778,
             "#fb9f3a"
            ],
            [
             0.8888888888888888,
             "#fdca26"
            ],
            [
             1,
             "#f0f921"
            ]
           ]
          },
          "colorway": [
           "#636efa",
           "#EF553B",
           "#00cc96",
           "#ab63fa",
           "#FFA15A",
           "#19d3f3",
           "#FF6692",
           "#B6E880",
           "#FF97FF",
           "#FECB52"
          ],
          "font": {
           "color": "#2a3f5f"
          },
          "geo": {
           "bgcolor": "white",
           "lakecolor": "white",
           "landcolor": "#E5ECF6",
           "showlakes": true,
           "showland": true,
           "subunitcolor": "white"
          },
          "hoverlabel": {
           "align": "left"
          },
          "hovermode": "closest",
          "mapbox": {
           "style": "light"
          },
          "paper_bgcolor": "white",
          "plot_bgcolor": "#E5ECF6",
          "polar": {
           "angularaxis": {
            "gridcolor": "white",
            "linecolor": "white",
            "ticks": ""
           },
           "bgcolor": "#E5ECF6",
           "radialaxis": {
            "gridcolor": "white",
            "linecolor": "white",
            "ticks": ""
           }
          },
          "scene": {
           "xaxis": {
            "backgroundcolor": "#E5ECF6",
            "gridcolor": "white",
            "gridwidth": 2,
            "linecolor": "white",
            "showbackground": true,
            "ticks": "",
            "zerolinecolor": "white"
           },
           "yaxis": {
            "backgroundcolor": "#E5ECF6",
            "gridcolor": "white",
            "gridwidth": 2,
            "linecolor": "white",
            "showbackground": true,
            "ticks": "",
            "zerolinecolor": "white"
           },
           "zaxis": {
            "backgroundcolor": "#E5ECF6",
            "gridcolor": "white",
            "gridwidth": 2,
            "linecolor": "white",
            "showbackground": true,
            "ticks": "",
            "zerolinecolor": "white"
           }
          },
          "shapedefaults": {
           "line": {
            "color": "#2a3f5f"
           }
          },
          "ternary": {
           "aaxis": {
            "gridcolor": "white",
            "linecolor": "white",
            "ticks": ""
           },
           "baxis": {
            "gridcolor": "white",
            "linecolor": "white",
            "ticks": ""
           },
           "bgcolor": "#E5ECF6",
           "caxis": {
            "gridcolor": "white",
            "linecolor": "white",
            "ticks": ""
           }
          },
          "title": {
           "x": 0.05
          },
          "xaxis": {
           "automargin": true,
           "gridcolor": "white",
           "linecolor": "white",
           "ticks": "",
           "title": {
            "standoff": 15
           },
           "zerolinecolor": "white",
           "zerolinewidth": 2
          },
          "yaxis": {
           "automargin": true,
           "gridcolor": "white",
           "linecolor": "white",
           "ticks": "",
           "title": {
            "standoff": 15
           },
           "zerolinecolor": "white",
           "zerolinewidth": 2
          }
         }
        },
        "title": {
         "text": "Job Counts by Location"
        },
        "xaxis": {
         "tickangle": 45,
         "title": {
          "text": "Location"
         }
        },
        "yaxis": {
         "title": {
          "text": "Count"
         }
        }
       }
      },
      "text/html": [
       "<div>                            <div id=\"5113eb60-02bf-42fd-95b4-686c368ed05e\" class=\"plotly-graph-div\" style=\"height:525px; width:100%;\"></div>            <script type=\"text/javascript\">                require([\"plotly\"], function(Plotly) {                    window.PLOTLYENV=window.PLOTLYENV || {};                                    if (document.getElementById(\"5113eb60-02bf-42fd-95b4-686c368ed05e\")) {                    Plotly.newPlot(                        \"5113eb60-02bf-42fd-95b4-686c368ed05e\",                        [{\"text\":[\"69\",\"21\",\"9\",\"5\",\"5\",\"2\",\"4\",\"1\",\"1\",\"1\",\"1\",\"9\",\"8\",\"40\",\"18\",\"9\",\"10\",\"1\",\"6\",\"7\",\"3\",\"13\",\"2\",\"1\",\"6\",\"1\",\"1\",\"6\",\"2\",\"3\",\"12\",\"1\",\"7\",\"2\",\"2\",\"1\",\"1\",\"1\",\"3\",\"1\",\"1\",\"2\",\"1\",\"1\",\"2\",\"1\",\"1\",\"1\",\"2\",\"1\",\"4\",\"4\",\"1\",\"2\",\"1\",\"1\",\"2\",\"2\",\"4\",\"2\",\"2\",\"1\",\"2\",\"2\",\"1\",\"3\",\"1\",\"1\",\"1\",\"1\",\"1\",\"1\",\"1\",\"1\",\"1\",\"1\",\"1\",\"2\",\"2\",\"1\",\"1\",\"1\",\"1\",\"1\",\"1\",\"1\",\"1\"],\"textfont\":{\"color\":\"black\"},\"textposition\":\"auto\",\"x\":[\"Anywhere\",\"New York, NY\",\"United States\",\"Baltimore, MD\",\"Reston, VA\",\"Oak Ridge, TN\",\"South San Francisco, CA\",\"Wilmington, DE\",\"Maryland\",\"Edison, NJ\",\"Moline, IL\",\"Annapolis Junction, MD\",\"Alexandria, VA\",\"Washington, DC\",\"Arlington, VA\",\"McLean, VA\",\"Bethesda, MD\",\"College Park, MD\",\"Fort Meade, MD\",\"Silver Spring, MD\",\"Laurel, MD\",\"Herndon, VA\",\"Chevy Chase, MD\",\"Falls Church, VA\",\"Annapolis, MD\",\"United States  (+1 other)\",\"Manassas, VA\",\"Fairfax, VA\",\"Rockville, MD\",\"Boston, MA\",\"San Francisco, CA\",\"Dayton, OH\",\"Seattle, WA\",\"California  (+1 other)\",\"Phoenix, AZ\",\"Somerville, MA\",\"West Columbia, SC\",\"New York\",\"Palo Alto, CA\",\"Santa Clara, CA\",\"Suffolk, VA\",\"Takoma Park, MD\",\"Wheaton-Glenmont, MD\",\"Fort Belvoir, VA\",\"Columbia, MD\",\"Vienna, VA\",\"Sterling, VA\",\"Bridgeport, WV\",\"California\",\"Ruston, LA\",\"Menlo Park, CA\",\"Cupertino, CA\",\"Lexington, MA  (+1 other)\",\"Kirkland, WA\",\"Marlborough, MA\",\"Waltham, MA\",\"Atlanta, GA\",\"Dallas, TX\",\"Chicago, IL\",\"Honolulu, HI\",\"Livermore, CA\",\"Fremont, CA\",\"Springfield, VA\",\"Beltsville, MD\",\"Newton, MA\",\"San Jose, CA\",\"Los Angeles, CA\",\"Covington, KY\",\"San Diego, CA\",\"Bethune, SC\",\"Columbus, OH\",\"Sunnyvale, CA\",\"Sacramento, CA\",\"Madrid, AL\",\"Pittsburgh, PA\",\"Culver City, CA\",\"Cincinnati, OH\",\"Hanover, MD\",\"Catonsville, MD\",\"Ohio  (+1 other)\",\"Chantilly, VA\",\"Germantown, MD\",\"Bowie, MD\",\"Durham, NC\",\"Montreal, MO\",\"Brooklyn, NY\",\"Los Altos, CA\"],\"y\":[69,21,9,5,5,2,4,1,1,1,1,9,8,40,18,9,10,1,6,7,3,13,2,1,6,1,1,6,2,3,12,1,7,2,2,1,1,1,3,1,1,2,1,1,2,1,1,1,2,1,4,4,1,2,1,1,2,2,4,2,2,1,2,2,1,3,1,1,1,1,1,1,1,1,1,1,1,2,2,1,1,1,1,1,1,1,1],\"type\":\"bar\"}],                        {\"showlegend\":false,\"title\":{\"text\":\"Job Counts by Location\"},\"xaxis\":{\"tickangle\":45,\"title\":{\"text\":\"Location\"}},\"yaxis\":{\"title\":{\"text\":\"Count\"}},\"template\":{\"data\":{\"bar\":[{\"error_x\":{\"color\":\"#2a3f5f\"},\"error_y\":{\"color\":\"#2a3f5f\"},\"marker\":{\"line\":{\"color\":\"#E5ECF6\",\"width\":0.5},\"pattern\":{\"fillmode\":\"overlay\",\"size\":10,\"solidity\":0.2}},\"type\":\"bar\"}],\"barpolar\":[{\"marker\":{\"line\":{\"color\":\"#E5ECF6\",\"width\":0.5},\"pattern\":{\"fillmode\":\"overlay\",\"size\":10,\"solidity\":0.2}},\"type\":\"barpolar\"}],\"carpet\":[{\"aaxis\":{\"endlinecolor\":\"#2a3f5f\",\"gridcolor\":\"white\",\"linecolor\":\"white\",\"minorgridcolor\":\"white\",\"startlinecolor\":\"#2a3f5f\"},\"baxis\":{\"endlinecolor\":\"#2a3f5f\",\"gridcolor\":\"white\",\"linecolor\":\"white\",\"minorgridcolor\":\"white\",\"startlinecolor\":\"#2a3f5f\"},\"type\":\"carpet\"}],\"choropleth\":[{\"colorbar\":{\"outlinewidth\":0,\"ticks\":\"\"},\"type\":\"choropleth\"}],\"contour\":[{\"colorbar\":{\"outlinewidth\":0,\"ticks\":\"\"},\"colorscale\":[[0.0,\"#0d0887\"],[0.1111111111111111,\"#46039f\"],[0.2222222222222222,\"#7201a8\"],[0.3333333333333333,\"#9c179e\"],[0.4444444444444444,\"#bd3786\"],[0.5555555555555556,\"#d8576b\"],[0.6666666666666666,\"#ed7953\"],[0.7777777777777778,\"#fb9f3a\"],[0.8888888888888888,\"#fdca26\"],[1.0,\"#f0f921\"]],\"type\":\"contour\"}],\"contourcarpet\":[{\"colorbar\":{\"outlinewidth\":0,\"ticks\":\"\"},\"type\":\"contourcarpet\"}],\"heatmap\":[{\"colorbar\":{\"outlinewidth\":0,\"ticks\":\"\"},\"colorscale\":[[0.0,\"#0d0887\"],[0.1111111111111111,\"#46039f\"],[0.2222222222222222,\"#7201a8\"],[0.3333333333333333,\"#9c179e\"],[0.4444444444444444,\"#bd3786\"],[0.5555555555555556,\"#d8576b\"],[0.6666666666666666,\"#ed7953\"],[0.7777777777777778,\"#fb9f3a\"],[0.8888888888888888,\"#fdca26\"],[1.0,\"#f0f921\"]],\"type\":\"heatmap\"}],\"heatmapgl\":[{\"colorbar\":{\"outlinewidth\":0,\"ticks\":\"\"},\"colorscale\":[[0.0,\"#0d0887\"],[0.1111111111111111,\"#46039f\"],[0.2222222222222222,\"#7201a8\"],[0.3333333333333333,\"#9c179e\"],[0.4444444444444444,\"#bd3786\"],[0.5555555555555556,\"#d8576b\"],[0.6666666666666666,\"#ed7953\"],[0.7777777777777778,\"#fb9f3a\"],[0.8888888888888888,\"#fdca26\"],[1.0,\"#f0f921\"]],\"type\":\"heatmapgl\"}],\"histogram\":[{\"marker\":{\"pattern\":{\"fillmode\":\"overlay\",\"size\":10,\"solidity\":0.2}},\"type\":\"histogram\"}],\"histogram2d\":[{\"colorbar\":{\"outlinewidth\":0,\"ticks\":\"\"},\"colorscale\":[[0.0,\"#0d0887\"],[0.1111111111111111,\"#46039f\"],[0.2222222222222222,\"#7201a8\"],[0.3333333333333333,\"#9c179e\"],[0.4444444444444444,\"#bd3786\"],[0.5555555555555556,\"#d8576b\"],[0.6666666666666666,\"#ed7953\"],[0.7777777777777778,\"#fb9f3a\"],[0.8888888888888888,\"#fdca26\"],[1.0,\"#f0f921\"]],\"type\":\"histogram2d\"}],\"histogram2dcontour\":[{\"colorbar\":{\"outlinewidth\":0,\"ticks\":\"\"},\"colorscale\":[[0.0,\"#0d0887\"],[0.1111111111111111,\"#46039f\"],[0.2222222222222222,\"#7201a8\"],[0.3333333333333333,\"#9c179e\"],[0.4444444444444444,\"#bd3786\"],[0.5555555555555556,\"#d8576b\"],[0.6666666666666666,\"#ed7953\"],[0.7777777777777778,\"#fb9f3a\"],[0.8888888888888888,\"#fdca26\"],[1.0,\"#f0f921\"]],\"type\":\"histogram2dcontour\"}],\"mesh3d\":[{\"colorbar\":{\"outlinewidth\":0,\"ticks\":\"\"},\"type\":\"mesh3d\"}],\"parcoords\":[{\"line\":{\"colorbar\":{\"outlinewidth\":0,\"ticks\":\"\"}},\"type\":\"parcoords\"}],\"pie\":[{\"automargin\":true,\"type\":\"pie\"}],\"scatter\":[{\"marker\":{\"colorbar\":{\"outlinewidth\":0,\"ticks\":\"\"}},\"type\":\"scatter\"}],\"scatter3d\":[{\"line\":{\"colorbar\":{\"outlinewidth\":0,\"ticks\":\"\"}},\"marker\":{\"colorbar\":{\"outlinewidth\":0,\"ticks\":\"\"}},\"type\":\"scatter3d\"}],\"scattercarpet\":[{\"marker\":{\"colorbar\":{\"outlinewidth\":0,\"ticks\":\"\"}},\"type\":\"scattercarpet\"}],\"scattergeo\":[{\"marker\":{\"colorbar\":{\"outlinewidth\":0,\"ticks\":\"\"}},\"type\":\"scattergeo\"}],\"scattergl\":[{\"marker\":{\"colorbar\":{\"outlinewidth\":0,\"ticks\":\"\"}},\"type\":\"scattergl\"}],\"scattermapbox\":[{\"marker\":{\"colorbar\":{\"outlinewidth\":0,\"ticks\":\"\"}},\"type\":\"scattermapbox\"}],\"scatterpolar\":[{\"marker\":{\"colorbar\":{\"outlinewidth\":0,\"ticks\":\"\"}},\"type\":\"scatterpolar\"}],\"scatterpolargl\":[{\"marker\":{\"colorbar\":{\"outlinewidth\":0,\"ticks\":\"\"}},\"type\":\"scatterpolargl\"}],\"scatterternary\":[{\"marker\":{\"colorbar\":{\"outlinewidth\":0,\"ticks\":\"\"}},\"type\":\"scatterternary\"}],\"surface\":[{\"colorbar\":{\"outlinewidth\":0,\"ticks\":\"\"},\"colorscale\":[[0.0,\"#0d0887\"],[0.1111111111111111,\"#46039f\"],[0.2222222222222222,\"#7201a8\"],[0.3333333333333333,\"#9c179e\"],[0.4444444444444444,\"#bd3786\"],[0.5555555555555556,\"#d8576b\"],[0.6666666666666666,\"#ed7953\"],[0.7777777777777778,\"#fb9f3a\"],[0.8888888888888888,\"#fdca26\"],[1.0,\"#f0f921\"]],\"type\":\"surface\"}],\"table\":[{\"cells\":{\"fill\":{\"color\":\"#EBF0F8\"},\"line\":{\"color\":\"white\"}},\"header\":{\"fill\":{\"color\":\"#C8D4E3\"},\"line\":{\"color\":\"white\"}},\"type\":\"table\"}]},\"layout\":{\"annotationdefaults\":{\"arrowcolor\":\"#2a3f5f\",\"arrowhead\":0,\"arrowwidth\":1},\"autotypenumbers\":\"strict\",\"coloraxis\":{\"colorbar\":{\"outlinewidth\":0,\"ticks\":\"\"}},\"colorscale\":{\"diverging\":[[0,\"#8e0152\"],[0.1,\"#c51b7d\"],[0.2,\"#de77ae\"],[0.3,\"#f1b6da\"],[0.4,\"#fde0ef\"],[0.5,\"#f7f7f7\"],[0.6,\"#e6f5d0\"],[0.7,\"#b8e186\"],[0.8,\"#7fbc41\"],[0.9,\"#4d9221\"],[1,\"#276419\"]],\"sequential\":[[0.0,\"#0d0887\"],[0.1111111111111111,\"#46039f\"],[0.2222222222222222,\"#7201a8\"],[0.3333333333333333,\"#9c179e\"],[0.4444444444444444,\"#bd3786\"],[0.5555555555555556,\"#d8576b\"],[0.6666666666666666,\"#ed7953\"],[0.7777777777777778,\"#fb9f3a\"],[0.8888888888888888,\"#fdca26\"],[1.0,\"#f0f921\"]],\"sequentialminus\":[[0.0,\"#0d0887\"],[0.1111111111111111,\"#46039f\"],[0.2222222222222222,\"#7201a8\"],[0.3333333333333333,\"#9c179e\"],[0.4444444444444444,\"#bd3786\"],[0.5555555555555556,\"#d8576b\"],[0.6666666666666666,\"#ed7953\"],[0.7777777777777778,\"#fb9f3a\"],[0.8888888888888888,\"#fdca26\"],[1.0,\"#f0f921\"]]},\"colorway\":[\"#636efa\",\"#EF553B\",\"#00cc96\",\"#ab63fa\",\"#FFA15A\",\"#19d3f3\",\"#FF6692\",\"#B6E880\",\"#FF97FF\",\"#FECB52\"],\"font\":{\"color\":\"#2a3f5f\"},\"geo\":{\"bgcolor\":\"white\",\"lakecolor\":\"white\",\"landcolor\":\"#E5ECF6\",\"showlakes\":true,\"showland\":true,\"subunitcolor\":\"white\"},\"hoverlabel\":{\"align\":\"left\"},\"hovermode\":\"closest\",\"mapbox\":{\"style\":\"light\"},\"paper_bgcolor\":\"white\",\"plot_bgcolor\":\"#E5ECF6\",\"polar\":{\"angularaxis\":{\"gridcolor\":\"white\",\"linecolor\":\"white\",\"ticks\":\"\"},\"bgcolor\":\"#E5ECF6\",\"radialaxis\":{\"gridcolor\":\"white\",\"linecolor\":\"white\",\"ticks\":\"\"}},\"scene\":{\"xaxis\":{\"backgroundcolor\":\"#E5ECF6\",\"gridcolor\":\"white\",\"gridwidth\":2,\"linecolor\":\"white\",\"showbackground\":true,\"ticks\":\"\",\"zerolinecolor\":\"white\"},\"yaxis\":{\"backgroundcolor\":\"#E5ECF6\",\"gridcolor\":\"white\",\"gridwidth\":2,\"linecolor\":\"white\",\"showbackground\":true,\"ticks\":\"\",\"zerolinecolor\":\"white\"},\"zaxis\":{\"backgroundcolor\":\"#E5ECF6\",\"gridcolor\":\"white\",\"gridwidth\":2,\"linecolor\":\"white\",\"showbackground\":true,\"ticks\":\"\",\"zerolinecolor\":\"white\"}},\"shapedefaults\":{\"line\":{\"color\":\"#2a3f5f\"}},\"ternary\":{\"aaxis\":{\"gridcolor\":\"white\",\"linecolor\":\"white\",\"ticks\":\"\"},\"baxis\":{\"gridcolor\":\"white\",\"linecolor\":\"white\",\"ticks\":\"\"},\"bgcolor\":\"#E5ECF6\",\"caxis\":{\"gridcolor\":\"white\",\"linecolor\":\"white\",\"ticks\":\"\"}},\"title\":{\"x\":0.05},\"xaxis\":{\"automargin\":true,\"gridcolor\":\"white\",\"linecolor\":\"white\",\"ticks\":\"\",\"title\":{\"standoff\":15},\"zerolinecolor\":\"white\",\"zerolinewidth\":2},\"yaxis\":{\"automargin\":true,\"gridcolor\":\"white\",\"linecolor\":\"white\",\"ticks\":\"\",\"title\":{\"standoff\":15},\"zerolinecolor\":\"white\",\"zerolinewidth\":2}}}},                        {\"responsive\": true}                    ).then(function(){\n",
       "                            \n",
       "var gd = document.getElementById('5113eb60-02bf-42fd-95b4-686c368ed05e');\n",
       "var x = new MutationObserver(function (mutations, observer) {{\n",
       "        var display = window.getComputedStyle(gd).display;\n",
       "        if (!display || display === 'none') {{\n",
       "            console.log([gd, 'removed!']);\n",
       "            Plotly.purge(gd);\n",
       "            observer.disconnect();\n",
       "        }}\n",
       "}});\n",
       "\n",
       "// Listen for the removal of the full notebook cells\n",
       "var notebookContainer = gd.closest('#notebook-container');\n",
       "if (notebookContainer) {{\n",
       "    x.observe(notebookContainer, {childList: true});\n",
       "}}\n",
       "\n",
       "// Listen for the clearing of the current output cell\n",
       "var outputEl = gd.closest('.output');\n",
       "if (outputEl) {{\n",
       "    x.observe(outputEl, {childList: true});\n",
       "}}\n",
       "\n",
       "                        })                };                });            </script>        </div>"
      ]
     },
     "metadata": {},
     "output_type": "display_data"
    }
   ],
   "source": [
    "# create a list of location counts\n",
    "location_counts = {}\n",
    "# Iterate over jobs results\n",
    "for job in combined_data['jobs_results']:\n",
    "    location = job['location'].strip()\n",
    "    location_counts[location] = location_counts.get(location, 0) + 1\n",
    "# Sort the dictionary by value\n",
    "locations = list(location_counts.keys())\n",
    "counts = list(location_counts.values())\n",
    "# Create a bar chart\n",
    "data = [go.Bar(x=locations, y=counts, text=counts, textposition='auto', textfont=dict(color='black'))]\n",
    "# Customize the layout\n",
    "layout = go.Layout(\n",
    "    title=\"Job Counts by Location\",\n",
    "    xaxis=dict(title=\"Location\", tickangle=45),\n",
    "    yaxis=dict(title=\"Count\"),\n",
    "    showlegend=False,\n",
    ")\n",
    "fig = go.Figure(data=data, layout=layout)\n",
    "# Customize the appearance if desired\n",
    "pio.show(fig)"
   ]
  },
  {
   "cell_type": "markdown",
   "metadata": {},
   "source": [
    "This plot shows the number of job positions available in different locations. The fact that the highest count is indicated as \"Anywhere\" suggests that a significant portion of the job positions in the dataset do not have a specific location associated with them. This could be due to various reasons such as remote work opportunities or job listings that are open to candidates from multiple locations. It indicates that these job positions are not limited to a particular geographic region and can be performed from anywhere. This information is valuable for individuals who prefer remote work or are open to relocation. It also highlights the global nature of job opportunities in the dataset. However, it's important to note that the \"Anywhere\" category may also include job positions with missing or unspecified location data. "
   ]
  },
  {
   "cell_type": "code",
   "execution_count": 11,
   "metadata": {},
   "outputs": [
    {
     "data": {
      "image/png": "[encoded data removed]",
      "text/plain": [
       "<Figure size 720x432 with 1 Axes>"
      ]
     },
     "metadata": {
      "needs_background": "light"
     },
     "output_type": "display_data"
    }
   ],
   "source": [
    "# Get the job positions from the data\n",
    "job_positions = [job['title'] for job in combined_data['jobs_results']]\n",
    "\n",
    "# Join the job positions into a single string\n",
    "text = ' '.join(job_positions)\n",
    "\n",
    "# Generate the word cloud\n",
    "wordcloud = WordCloud(width=800, height=400, background_color='white').generate(text)\n",
    "\n",
    "# Plot the word cloud\n",
    "plt.figure(figsize=(10, 6))\n",
    "plt.imshow(wordcloud, interpolation='bilinear')\n",
    "plt.axis('off')\n",
    "plt.title('Most Searched Job Positions')\n",
    "plt.show()\n"
   ]
  },
  {
   "cell_type": "markdown",
   "metadata": {},
   "source": [
    "The wordcloud plot, with \"machine learning\" and \"data scientist\" appearing as the most prominent and larger words, signifies their significant importance and prevalence in the job market. This suggests that machine learning and data science are highly sought-after fields with a strong demand for professionals skilled in these areas. The larger size of these words indicates their prominence and relevance in the industry, highlighting their critical role in various job positions and organizations. This observation further emphasizes the value and significance of machine learning and data science expertise in today's job market, making them essential skills for individuals aspiring to excel in the field and pursue successful careers."
   ]
  },
  {
   "cell_type": "markdown",
   "metadata": {},
   "source": [
    "## Analysis\n",
    "My interest or question is that what are the most commonly required skills or qualifications across different job titles? It is mainly focusing on two job titles, which are Machine learning and data scientist. "
   ]
  },
  {
   "cell_type": "code",
   "execution_count": 12,
   "metadata": {},
   "outputs": [],
   "source": [
    "filtered_data = []\n",
    "\n",
    "for job in combined_data['jobs_results']:\n",
    "    title = job['title'].lower()\n",
    "    if 'machine learning' in title or 'data scientist' in title:\n",
    "        filtered_data.append(job)\n"
   ]
  },
  {
   "cell_type": "code",
   "execution_count": 13,
   "metadata": {},
   "outputs": [
    {
     "name": "stdout",
     "output_type": "stream",
     "text": [
      "Most Important Skill:\n",
      "Developed data wrangling/ETL transforms using python Pandas package: 6\n"
     ]
    }
   ],
   "source": [
    "# create a list of qualification counts\n",
    "qualifications = []\n",
    "# Iterate over jobs results\n",
    "for job in filtered_data:\n",
    "    highlights = job['job_highlights']\n",
    "    for highlight in highlights:\n",
    "        if isinstance(highlight, dict) and 'title' in highlight and highlight['title'].lower() == 'qualifications':\n",
    "            items = highlight.get('items', [])\n",
    "            qualifications.extend(items)\n",
    "# Count the occurrences of each qualification\n",
    "qualification_counts = Counter(qualifications)\n",
    "# Sort qualifications by count in descending order\n",
    "sorted_qualifications = sorted(qualification_counts.items(), key=lambda x: x[1], reverse=True)\n",
    "# Get the most important skill\n",
    "most_important_skill = sorted_qualifications[0][0]\n",
    "count_of_most_important_skill = sorted_qualifications[0][1]\n",
    "print(\"Most Important Skill:\")\n",
    "print(f\"{most_important_skill}: {count_of_most_important_skill}\")\n"
   ]
  },
  {
   "cell_type": "code",
   "execution_count": 14,
   "metadata": {},
   "outputs": [
    {
     "name": "stdout",
     "output_type": "stream",
     "text": [
      "data: 718\n",
      "experience: 637\n",
      "learning: 535\n",
      "machine: 355\n",
      "models: 227\n",
      "work: 226\n",
      "ml: 195\n",
      "science: 191\n",
      "years: 182\n",
      "development: 179\n"
     ]
    }
   ],
   "source": [
    "# Extract job highlights or qualification sections\n",
    "job_highlights = [job['job_highlights'] for job in filtered_data]\n",
    "\n",
    "# Flatten the nested list and combine all job highlights into a single string\n",
    "job_highlights_flat = [item for sublist in job_highlights for dict_item in sublist for item in dict_item['items']]\n",
    "text = ' '.join(job_highlights_flat)\n",
    "\n",
    "# Clean and tokenize the text\n",
    "cleaned_text = ''.join([c for c in text if c not in ('!', '.', ',', ':', '\\n', '(', ')')])  # Remove punctuation\n",
    "tokens = nltk.word_tokenize(cleaned_text.lower())  # Tokenize and convert to lowercase\n",
    "\n",
    "# Remove stopwords\n",
    "stop_words = set(stopwords.words('english'))\n",
    "filtered_tokens = [token for token in tokens if token not in stop_words]\n",
    "\n",
    "# Count the frequency of each skill\n",
    "skill_counts = Counter(filtered_tokens)\n",
    "\n",
    "# Sort the skills by frequency in descending order\n",
    "most_common_skills = skill_counts.most_common(10)  # Change the number to get more or fewer skills\n",
    "\n",
    "# Print the most common skills\n",
    "for skill, count in most_common_skills:\n",
    "    print(f\"{skill}: {count}\")\n"
   ]
  },
  {
   "cell_type": "markdown",
   "metadata": {},
   "source": [
    "The analysis of the job highlights or qualification sections from various job titles reveals several key insights. Firstly, proficiency in handling and analyzing data is a crucial skill that is consistently sought after by employers, as indicated by the frequent mention of \"data\" in the descriptions. Additionally, experience is highly valued, with \"experience\" appearing prominently in the results. The prevalence of terms like \"learning\" and \"machine\" underscores the importance of staying updated with advancements in the field of machine learning. Furthermore, the presence of \"models\" and \"ml\" suggests the need for expertise in developing and applying machine learning models. The recurring mention of \"work\" underscores the expectation of strong work ethic and collaboration. The terms \"science\" and \"development\" reflect the scientific approach and technical skills required for these roles. Overall, these findings shed light on the key qualifications and skills that employers consistently prioritize when hiring for job positions in this field, providing valuable guidance for job seekers and professionals seeking career advancement in the industry."
   ]
  },
  {
   "cell_type": "markdown",
   "metadata": {},
   "source": [
    "## Conclusion\n",
    "Based on the analysis conducted, several key insights can be derived from the results. Firstly, the job market shows a significant demand for machine learning and data scientist positions, as indicated by the high frequency of these job titles and their prominence in the word cloud plot. This suggests that professionals with skills in machine learning and data science are highly sought after in various industries. Additionally, the distribution of job types reveals that a majority of the jobs are full-time positions, followed by part-time roles. This indicates that organizations predominantly offer full-time employment opportunities. However, it is important to note that there is a smaller proportion of jobs categorized as \"Others,\" which includes contract, freelance, and remote positions. This suggests that alternative work arrangements are also present in the job market, catering to individuals seeking flexible employment options. Moreover, the analysis of qualifications across different job titles highlights the commonly required skills and qualifications. Skills such as data analysis, programming, and machine learning experience are consistently in demand across various roles, emphasizing their importance in the job market. Overall, these findings provide valuable insights into job trends, preferred work arrangements, and the essential skills needed to succeed in the industry."
   ]
  }
 ],
 "metadata": {
  "kernelspec": {
   "display_name": "Python 3.9.12 ('base')",
   "language": "python",
   "name": "python3"
  },
  "language_info": {
   "codemirror_mode": {
    "name": "ipython",
    "version": 3
   },
   "file_extension": ".py",
   "mimetype": "text/x-python",
   "name": "python",
   "nbconvert_exporter": "python",
   "pygments_lexer": "ipython3",
   "version": "3.9.12"
  },
  "orig_nbformat": 4,
  "vscode": {
   "interpreter": {
    "hash": "4dc754403a8355d40f82e4b43176662d50adb53bc173693b7226b210eaa802d1"
   }
  }
 },
 "nbformat": 4,
 "nbformat_minor": 2
}
